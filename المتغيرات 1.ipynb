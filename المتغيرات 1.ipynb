{
 "cells": [
  {
   "cell_type": "code",
   "execution_count": null,
   "id": "4ac0e91e",
   "metadata": {},
   "outputs": [],
   "source": [
    "#intger int 1,2,3,4,5,6\n",
    "# string str \" ahmed\" \"4\"\n",
    "# boolean True or False \n",
    "# float 1.2 1.334"
   ]
  },
  {
   "cell_type": "code",
   "execution_count": 6,
   "id": "b2b4c408",
   "metadata": {},
   "outputs": [
    {
     "name": "stdout",
     "output_type": "stream",
     "text": [
      "11\n"
     ]
    }
   ],
   "source": [
    "x=4\n",
    "#print(type(x))\n",
    "y= \"ab\"\n",
    "#print(type(y))\n",
    "#print(x)\n",
    "\n",
    "x=5\n",
    "z=6\n",
    "t= x+z\n",
    "\n",
    "print(t)"
   ]
  },
  {
   "cell_type": "code",
   "execution_count": 7,
   "id": "e738188d",
   "metadata": {},
   "outputs": [
    {
     "name": "stdout",
     "output_type": "stream",
     "text": [
      "ab\n"
     ]
    }
   ],
   "source": [
    "x=\"a\"\n",
    "y=\"b\"\n",
    "z=x+y\n",
    "print(z)"
   ]
  },
  {
   "cell_type": "code",
   "execution_count": null,
   "id": "9cc05ac7",
   "metadata": {},
   "outputs": [],
   "source": []
  },
  {
   "cell_type": "code",
   "execution_count": null,
   "id": "fa8c30da",
   "metadata": {},
   "outputs": [],
   "source": []
  },
  {
   "cell_type": "code",
   "execution_count": null,
   "id": "6a4ffd1f",
   "metadata": {},
   "outputs": [],
   "source": []
  },
  {
   "cell_type": "code",
   "execution_count": null,
   "id": "90515201",
   "metadata": {},
   "outputs": [],
   "source": []
  },
  {
   "cell_type": "code",
   "execution_count": null,
   "id": "1b84cd48",
   "metadata": {},
   "outputs": [],
   "source": [
    "# Part 1: Integer Operations\n",
    "# 1. Create two integer variables 'a' and 'b' and assign them any values.\n",
    "# 2. Perform the following operations and store the results in new variables:\n",
    "#    - Addition of 'a' and 'b'\n",
    "#    - Subtraction of 'a' from 'b'\n",
    "#    - Multiplication of 'a' and 'b'\n",
    "# 3. Print the results."
   ]
  },
  {
   "cell_type": "code",
   "execution_count": 8,
   "id": "183a796c",
   "metadata": {},
   "outputs": [
    {
     "name": "stdout",
     "output_type": "stream",
     "text": [
      "z is = 35\n",
      "t is = 5\n",
      "s is = 300\n"
     ]
    }
   ],
   "source": [
    "a= 15\n",
    "b= 20\n",
    "z=a+b\n",
    "t=b-a\n",
    "s=a*b\n",
    "print(\"z is =\", z)\n",
    "print(\"t is =\", t)\n",
    "print(\"s is =\", s)\n"
   ]
  },
  {
   "cell_type": "code",
   "execution_count": null,
   "id": "82796a95",
   "metadata": {},
   "outputs": [],
   "source": []
  },
  {
   "cell_type": "code",
   "execution_count": null,
   "id": "4a5632a9",
   "metadata": {},
   "outputs": [],
   "source": []
  },
  {
   "cell_type": "code",
   "execution_count": null,
   "id": "61ed202d",
   "metadata": {},
   "outputs": [],
   "source": []
  },
  {
   "cell_type": "code",
   "execution_count": null,
   "id": "e9519ad4",
   "metadata": {},
   "outputs": [],
   "source": []
  },
  {
   "cell_type": "code",
   "execution_count": null,
   "id": "6b37beb5",
   "metadata": {},
   "outputs": [],
   "source": []
  },
  {
   "cell_type": "code",
   "execution_count": null,
   "id": "bf2597e4",
   "metadata": {},
   "outputs": [],
   "source": [
    "#Part 2: String Manipulation\n",
    "# 1. Create a string variable 'name' and assign it your name.\n",
    "# 2. Print the length of the 'name' string.\n",
    "# 3. Convert the 'name' string to uppercase and print the result.\n",
    "# 4. Create another string variable 'message' and assign it any message you like.\n",
    "# 5. Concatenate the 'name' and 'message' strings and store the result in a new variable.\n",
    "# 6. Print the concatenated string."
   ]
  }
 ],
 "metadata": {
  "kernelspec": {
   "display_name": "Python 3 (ipykernel)",
   "language": "python",
   "name": "python3"
  },
  "language_info": {
   "codemirror_mode": {
    "name": "ipython",
    "version": 3
   },
   "file_extension": ".py",
   "mimetype": "text/x-python",
   "name": "python",
   "nbconvert_exporter": "python",
   "pygments_lexer": "ipython3",
   "version": "3.9.16"
  }
 },
 "nbformat": 4,
 "nbformat_minor": 5
}
