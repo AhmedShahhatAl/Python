{
 "cells": [
  {
   "cell_type": "code",
   "execution_count": 1,
   "id": "23fda2ba",
   "metadata": {},
   "outputs": [],
   "source": [
    "#image 2 text\n",
    "\n",
    "from dotenv import find_dotenv, load_dotenv\n",
    "from transformers import pipeline \n"
   ]
  },
  {
   "cell_type": "code",
   "execution_count": 2,
   "id": "f5b5f393",
   "metadata": {},
   "outputs": [],
   "source": [
    "from langchain import PromptTemplate,LLMChain,OpenAI"
   ]
  },
  {
   "cell_type": "code",
   "execution_count": 10,
   "id": "ac3417f9",
   "metadata": {},
   "outputs": [],
   "source": [
    "import os\n",
    "_ = load_dotenv(find_dotenv()) # read local .env file\n",
    "\n",
    "os.environ[\"OPENAI_API_KEY\"] = \"\""
   ]
  },
  {
   "cell_type": "code",
   "execution_count": 19,
   "id": "f65012c7",
   "metadata": {},
   "outputs": [],
   "source": [
    "def get_text_info(url):\n",
    "    mod= pipeline(\"image-to-text\", model=\"Salesforce/blip-image-captioning-base\")\n",
    "    text = mod(url)\n",
    "    return text[0]['generated_text']"
   ]
  },
  {
   "cell_type": "code",
   "execution_count": 20,
   "id": "8c199b3d",
   "metadata": {},
   "outputs": [],
   "source": [
    "k=get_text_info(\"w.jpg\")"
   ]
  },
  {
   "cell_type": "code",
   "execution_count": 21,
   "id": "1ea37741",
   "metadata": {},
   "outputs": [
    {
     "name": "stdout",
     "output_type": "stream",
     "text": [
      "modern house design with stone and wood\n"
     ]
    }
   ],
   "source": [
    "print(k)"
   ]
  },
  {
   "cell_type": "code",
   "execution_count": 31,
   "id": "8ba03097",
   "metadata": {},
   "outputs": [],
   "source": [
    "def creat_story(t):\n",
    "    template=\"\"\"\n",
    "    you are story teller, create a funny short story in arabic base on the text provided, the story shoud not be more than 3 lines long\n",
    "    CONTEXT : {t}\n",
    "    Story:\n",
    "    \"\"\"\n",
    "    prompt = PromptTemplate(template=template, input_variables=[\"t\"])\n",
    "    s_llm = LLMChain(llm=OpenAI(model_name=\"gpt-4\",temperature=1),prompt=prompt, verbose=True)\n",
    "    story = s_llm.predict(t=t)\n",
    "    return story"
   ]
  },
  {
   "cell_type": "code",
   "execution_count": 32,
   "id": "ed7330a8",
   "metadata": {},
   "outputs": [
    {
     "name": "stdout",
     "output_type": "stream",
     "text": [
      "\n",
      "\n",
      "\u001b[1m> Entering new LLMChain chain...\u001b[0m\n",
      "Prompt after formatting:\n",
      "\u001b[32;1m\u001b[1;3m\n",
      "    you are story teller, create a funny short story in arabic base on the text provided, the story shoud not be more than 3 lines long\n",
      "    CONTEXT : modern house design with stone and wood\n",
      "    Story:\n",
      "    \u001b[0m\n",
      "\n",
      "\u001b[1m> Finished chain.\u001b[0m\n"
     ]
    }
   ],
   "source": [
    "s=creat_story(k)"
   ]
  },
  {
   "cell_type": "code",
   "execution_count": 33,
   "id": "f0d7c6e9",
   "metadata": {},
   "outputs": [
    {
     "name": "stdout",
     "output_type": "stream",
     "text": [
      "في العمارة الحديثة المصممة من الحجر والخشب، أراد الأب اختبار عقلية ابنه فقال له \"اذهب وأحضر لي نصفين من منزلنا\". فذهب الابن وأعاد نصف خشب ونصف حجر.\n"
     ]
    }
   ],
   "source": [
    "print(s)"
   ]
  },
  {
   "cell_type": "code",
   "execution_count": 12,
   "id": "5f797d74",
   "metadata": {},
   "outputs": [],
   "source": [
    "import requests\n",
    "def speech(s):\n",
    "     payloads = { \n",
    "            \"inputs\": s\n",
    "     }\n",
    "\n",
    "     API_URL = \"https://api-inference.huggingface.co/models/espnet/kan-bayashi_ljspeech_vits\"\n",
    "     headers = {\"Authorization\": \"Bearer \"}\n",
    "     response = requests.post(API_URL, headers=headers, json=payloads)\n",
    "     with open(\"audio.wav\",\"wb\") as file:\n",
    "         file.write(response.content)\n",
    "    \n"
   ]
  },
  {
   "cell_type": "code",
   "execution_count": 35,
   "id": "aa839909",
   "metadata": {},
   "outputs": [],
   "source": [
    "import speech_recognition as sr\n",
    "from gtts import gTTS\n",
    "from pydub.playback import play\n",
    "\n",
    "\n",
    "def text_to_speech(text):\n",
    "    tts = gTTS(text, lang='ar')\n",
    "    filename = \"audio.mp3\"\n",
    "    tts.save(filename)\n",
    "    \n",
    "text_to_speech(s)"
   ]
  },
  {
   "cell_type": "code",
   "execution_count": 69,
   "id": "b737ba50",
   "metadata": {},
   "outputs": [],
   "source": [
    "import streamlit as st\n",
    "from streamlit_jupyter import StreamlitPatcher, tqdm\n",
    "\n",
    "StreamlitPatcher().jupyter()"
   ]
  },
  {
   "cell_type": "code",
   "execution_count": 79,
   "id": "843a5fca",
   "metadata": {},
   "outputs": [],
   "source": [
    "def main():\n",
    "    st.set_page_config(page_title=\"story teller\", page_icon = \"jj\")\n",
    "    st.header(\"اجعلك صورتك تتحدث\")\n",
    "    up= st.file_uploader(\"ch\",type=\"jpg\")\n",
    "    if up is not None:\n",
    "        print(up)\n",
    "        by=up.file.getvalue()\n",
    "        with open(up.name,\"wb\"):\n",
    "            file.write(by)\n",
    "        st.image(up, caption=\"u\",use_column_width=True)\n",
    "        t = get_text_info(up.name)\n",
    "        s = creat_story(t)\n",
    "        speech(s)\n",
    "        with st.expander(\"context\"):\n",
    "            st.write(t)\n",
    "        with st.expander(\"story\"):\n",
    "            st.write(s)\n",
    "        st.audio(\"audio.wav\")\n",
    "    "
   ]
  },
  {
   "cell_type": "code",
   "execution_count": 80,
   "id": "2cdd54b4",
   "metadata": {},
   "outputs": [
    {
     "data": {
      "text/markdown": [
       "## gg"
      ],
      "text/plain": [
       "<IPython.core.display.Markdown object>"
      ]
     },
     "metadata": {},
     "output_type": "display_data"
    }
   ],
   "source": [
    "if __name__ == \"__main__\":\n",
    "    main()"
   ]
  }
 ],
 "metadata": {
  "kernelspec": {
   "display_name": "Python 3 (ipykernel)",
   "language": "python",
   "name": "python3"
  },
  "language_info": {
   "codemirror_mode": {
    "name": "ipython",
    "version": 3
   },
   "file_extension": ".py",
   "mimetype": "text/x-python",
   "name": "python",
   "nbconvert_exporter": "python",
   "pygments_lexer": "ipython3",
   "version": "3.11.4"
  }
 },
 "nbformat": 4,
 "nbformat_minor": 5
}
